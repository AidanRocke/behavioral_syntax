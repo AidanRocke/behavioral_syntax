{
 "cells": [
  {
   "cell_type": "markdown",
   "metadata": {
    "collapsed": false
   },
   "source": [
    "# analysis of N2 worm locomotion in chemical gradients\n",
    "#### the following analysis involves comparison of locomotion within this group \n",
    "\n",
    "## visualizing the most frequent postures:\n",
    "1. *posture distribution* charts the frequency of each postures across a random sample of videos.\n",
    "2. *posture frequency* shows the average frequency of each posture in this random sample, with the\n",
    "    label/probability above each posture. "
   ]
  },
  {
   "cell_type": "code",
   "execution_count": 2,
   "metadata": {
    "collapsed": false
   },
   "outputs": [
    {
     "ename": "ImportError",
     "evalue": "No module named 'behavioral_syntax.utilities'",
     "output_type": "error",
     "traceback": [
      "\u001b[0;31m---------------------------------------------------------------------------\u001b[0m",
      "\u001b[0;31mImportError\u001b[0m                               Traceback (most recent call last)",
      "\u001b[0;32m<ipython-input-2-0b52290de731>\u001b[0m in \u001b[0;36m<module>\u001b[0;34m()\u001b[0m\n\u001b[1;32m      9\u001b[0m \u001b[0;32mfrom\u001b[0m \u001b[0mscipy\u001b[0m \u001b[0;32mimport\u001b[0m \u001b[0mio\u001b[0m\u001b[0;34m\u001b[0m\u001b[0m\n\u001b[1;32m     10\u001b[0m \u001b[0;34m\u001b[0m\u001b[0m\n\u001b[0;32m---> 11\u001b[0;31m \u001b[0;32mfrom\u001b[0m \u001b[0mbehavioral_syntax\u001b[0m\u001b[0;34m.\u001b[0m\u001b[0mutilities\u001b[0m\u001b[0;34m.\u001b[0m\u001b[0mget_features\u001b[0m \u001b[0;32mimport\u001b[0m \u001b[0mget_features\u001b[0m\u001b[0;34m\u001b[0m\u001b[0m\n\u001b[0m\u001b[1;32m     12\u001b[0m \u001b[0;34m\u001b[0m\u001b[0m\n\u001b[1;32m     13\u001b[0m \u001b[0;31m#define data:\u001b[0m\u001b[0;34m\u001b[0m\u001b[0;34m\u001b[0m\u001b[0m\n",
      "\u001b[0;31mImportError\u001b[0m: No module named 'behavioral_syntax.utilities'"
     ]
    }
   ],
   "source": [
    "%matplotlib inline\n",
    "\n",
    "import sys\n",
    "sys.path.append('/Users/cyrilrocke/')\n",
    "\n",
    "import matplotlib\n",
    "import numpy as np\n",
    "import matplotlib.pyplot as plt\n",
    "from scipy import io\n",
    "\n",
    "from behavioral_syntax.utilities.get_features import get_features\n",
    "\n",
    "#define data:\n",
    "postures = '/Users/cyrilrocke/Documents/c_elegans/data/postures'\n",
    "g = io.loadmat(postures)\n",
    "postures = g.get('postures')\n",
    "\n",
    "data = '/Users/cyrilrocke/Documents/c_elegans/data/chemotaxis/'\n",
    "sample_ratio = 0.4\n",
    "output = 2\n",
    "\n",
    "#define file destinations:\n",
    "image_loc = '/Users/cyrilrocke/Documents/c_elegans/data/'\n",
    "image_name = 'posture_distribution'\n",
    "\n",
    "pos_seq = get_features(data,postures,sample_ratio,output)\n",
    "\n",
    "from behavioral_syntax.models.discrete_models.discretization.posture_distributions import posture_distributions\n",
    "\n",
    "posture_distributions(image_loc, image_name,data, postures,pos_seq)"
   ]
  },
  {
   "cell_type": "code",
   "execution_count": 2,
   "metadata": {
    "collapsed": false
   },
   "outputs": [],
   "source": [
    "import sys\n",
    "sys.path.append('/Users/cyrilrocke/')\n",
    "\n",
    "import behavioral_syntax"
   ]
  },
  {
   "cell_type": "code",
   "execution_count": null,
   "metadata": {
    "collapsed": true
   },
   "outputs": [],
   "source": []
  }
 ],
 "metadata": {
  "kernelspec": {
   "display_name": "Python 3",
   "language": "python",
   "name": "python3"
  },
  "language_info": {
   "codemirror_mode": {
    "name": "ipython",
    "version": 3
   },
   "file_extension": ".py",
   "mimetype": "text/x-python",
   "name": "python",
   "nbconvert_exporter": "python",
   "pygments_lexer": "ipython3",
   "version": "3.4.4"
  }
 },
 "nbformat": 4,
 "nbformat_minor": 0
}
