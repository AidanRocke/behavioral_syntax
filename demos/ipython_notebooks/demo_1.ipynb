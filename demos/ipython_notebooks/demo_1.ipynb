{
 "cells": [
  {
   "cell_type": "markdown",
   "metadata": {},
   "source": [
    "Before proceeding with the analysis, we need to extract the k template postures. Here's how this is done:\n",
    "1. The similarity measure between postures and skeletons that was used was the tangent angle distance measure. \n",
    "   This means that the skeletons in $\\mathbb{R}^2$ first have to be transformed into angles. \n",
    "2. Non-trivial(and positive) gain in R2(variance explained) between number of templates was used to determine when to    stop increasing the number of templates. i.e. the elbow method was used\n",
    "3. The particular algorithm used was done using sklearn's Kmeans++ algorithm. "
   ]
  },
  {
   "cell_type": "markdown",
   "metadata": {},
   "source": [
    "For 90 template postures, we obtain a figure like this:\n",
    "<img src=\"https://raw.githubusercontent.com/AidanRocke/behavioral_syntax/master/demos/images/figure_1.png\">"
   ]
  },
  {
   "cell_type": "markdown",
   "metadata": {},
   "source": [
    "In the above picture, the head of the worm is colored green. But, we may be interested in a few other things. In particular we may ask:\n",
    "1. How tight are the postures given above?\n",
    "2. What's the distance between those postures?"
   ]
  },
  {
   "cell_type": "code",
   "execution_count": null,
   "metadata": {
    "collapsed": true
   },
   "outputs": [],
   "source": []
  }
 ],
 "metadata": {
  "kernelspec": {
   "display_name": "Python 3",
   "language": "python",
   "name": "python3"
  },
  "language_info": {
   "codemirror_mode": {
    "name": "ipython",
    "version": 3
   },
   "file_extension": ".py",
   "mimetype": "text/x-python",
   "name": "python",
   "nbconvert_exporter": "python",
   "pygments_lexer": "ipython3",
   "version": "3.4.3"
  }
 },
 "nbformat": 4,
 "nbformat_minor": 0
}
