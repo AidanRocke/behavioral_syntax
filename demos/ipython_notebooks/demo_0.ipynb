{
 "cells": [
  {
   "cell_type": "markdown",
   "metadata": {},
   "source": [
    "First thing to do:\n",
    "\n",
    "1) assuming you have git:\n",
    "<br />a) open the command line\n",
    "<br />b) change the directory to your main python path\n",
    "<br />c) type git clone https://github.com/AidanRocke/behavioral_syntax\n",
    "\n",
    "2) If you don't have git:\n",
    "<br />a) install git: https://git-scm.com/book/en/v2/Getting-Started-Installing-Git or simply download the module as a <br />zip file from https://github.com/AidanRocke/behavioral_syntax\n",
    "<br />b) place the behavioral_syntax folder at the root of your system path. In order to find the system path, <br />type the following commands in a python interpreter \n",
    "```python\n",
    "import sys\n",
    "sys.path\n",
    "```\n",
    "\n",
    "3) Install Spyder if you don't have it: the easiest way to do this is via Anaconda's Continuum Analytics distribution http://docs.continuum.io/anaconda/install"
   ]
  }
 ],
 "metadata": {
  "kernelspec": {
   "display_name": "Python 3",
   "language": "python",
   "name": "python3"
  },
  "language_info": {
   "codemirror_mode": {
    "name": "ipython",
    "version": 3
   },
   "file_extension": ".py",
   "mimetype": "text/x-python",
   "name": "python",
   "nbconvert_exporter": "python",
   "pygments_lexer": "ipython3",
   "version": "3.4.3"
  }
 },
 "nbformat": 4,
 "nbformat_minor": 0
}
